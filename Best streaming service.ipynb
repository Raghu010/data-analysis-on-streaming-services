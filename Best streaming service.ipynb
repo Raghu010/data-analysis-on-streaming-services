{
 "cells": [
  {
   "cell_type": "markdown",
   "id": "e8304507-8dc7-46e1-9cd7-9534d6db6d8a",
   "metadata": {},
   "source": [
    "# **Best Streaming Service Analysis**"
   ]
  },
  {
   "cell_type": "markdown",
   "id": "7b1c86ba-b986-4e37-9a45-0ef29c27c86c",
   "metadata": {},
   "source": [
    "In this project, we will analyse the main streamming services like Netflix, Amazon Prime Video, Disney+, Hulu."
   ]
  },
  {
   "cell_type": "markdown",
   "id": "046457e0-7e98-4b08-b30a-6d7cd87bc437",
   "metadata": {},
   "source": [
    "**Import the necessary libraries**"
   ]
  },
  {
   "cell_type": "code",
   "execution_count": null,
   "id": "c305e65d-ad2c-4ad5-a2d4-84f1b0865589",
   "metadata": {},
   "outputs": [],
   "source": [
    "import pandas as pd\n",
    "import numpy as np\n",
    "import seaborn as sns\n",
    "import matplotlib.pyplot as plt\n",
    "\n",
    "import plotly.offline as pyo\n",
    "# Set notebook mode to work in offline\n",
    "pyo.init_notebook_mode()\n",
    "import plotly.express as px \n",
    "\n",
    "%matplotlib inline"
   ]
  },
  {
   "cell_type": "code",
   "execution_count": null,
   "id": "3c2640a9-6e59-4467-a8e4-313bda554b25",
   "metadata": {},
   "outputs": [],
   "source": [
    "df= pd.read_csv('Documents/datasets/moviestreams.csv')\n",
    "df.head()"
   ]
  },
  {
   "cell_type": "code",
   "execution_count": null,
   "id": "6caf2604-c8e7-40e8-b8c8-dc2fb4a3a891",
   "metadata": {},
   "outputs": [],
   "source": [
    "cols = df.columns.tolist()\n",
    "cols"
   ]
  },
  {
   "cell_type": "code",
   "execution_count": null,
   "id": "ef959b65-016d-4837-b2db-b37042686c00",
   "metadata": {},
   "outputs": [],
   "source": [
    "df.drop(['Unnamed: 0','ID',], axis=1, inplace = True)\n",
    "cols = df.columns.tolist()\n",
    "cols"
   ]
  },
  {
   "cell_type": "markdown",
   "id": "0f5c0342-95fd-4597-8242-d1165e7ea910",
   "metadata": {},
   "source": [
    "**Check For Missing Values**"
   ]
  },
  {
   "cell_type": "code",
   "execution_count": null,
   "id": "581e96e0-7358-446c-9bd3-3977f2aee966",
   "metadata": {},
   "outputs": [],
   "source": [
    "df.isna().sum()"
   ]
  },
  {
   "cell_type": "markdown",
   "id": "f5b96682-eb40-43a4-9138-ccd964616dd3",
   "metadata": {},
   "source": [
    "## removing the **'+'** sign attached to the values in the **Age** column."
   ]
  },
  {
   "cell_type": "code",
   "execution_count": null,
   "id": "2d63e43d-016f-458c-855c-f22e269dc689",
   "metadata": {},
   "outputs": [],
   "source": [
    "df['Age']"
   ]
  },
  {
   "cell_type": "code",
   "execution_count": null,
   "id": "683de5f2-f4f0-4292-9f99-45638d6784bc",
   "metadata": {},
   "outputs": [],
   "source": [
    "age_map = {'18+' : 18, '7+' : 7, '13+': 13, 'all' : 0, '16+' : 16}\n",
    "df['AgeCopy'] = df['Age'].map(age_map)\n",
    "df['AgeCopy']"
   ]
  },
  {
   "cell_type": "markdown",
   "id": "50bf40a8-bc4f-4e5f-88fe-c9ad3747b400",
   "metadata": {},
   "source": [
    "## removing the **'%'** sign attached to the values in the **Rotten Tomatoes** column."
   ]
  },
  {
   "cell_type": "code",
   "execution_count": null,
   "id": "722fbca8-a47a-48e4-b647-183b25b61e06",
   "metadata": {},
   "outputs": [],
   "source": [
    "df['New_Rotten_Tomatoes'] = df['Rotten Tomatoes'].str.replace(\"%\",\"\")\n",
    "for i in df['New_Rotten_Tomatoes']:\n",
    "    if i==str:\n",
    "        i.astype(int)\n",
    "df['New_Rotten_Tomatoes']"
   ]
  },
  {
   "cell_type": "markdown",
   "id": "55447729-14e4-45fb-8493-81c733562ff3",
   "metadata": {},
   "source": [
    "# **Visualisations**"
   ]
  },
  {
   "cell_type": "markdown",
   "id": "dd99b8a3-b14e-4ad7-9a2f-72e7ba51d678",
   "metadata": {},
   "source": [
    "# What Is The Number Of Movies For Each Age Group?"
   ]
  },
  {
   "cell_type": "code",
   "execution_count": null,
   "id": "81825aea-7401-4410-b65b-e8108b3767fd",
   "metadata": {},
   "outputs": [],
   "source": [
    "df['Age'].value_counts()"
   ]
  },
  {
   "cell_type": "markdown",
   "id": "1fe4bf76-72b9-4a47-8e9e-e86c36c55d6c",
   "metadata": {},
   "source": [
    "**Number of Movies in specific age group in All services**"
   ]
  },
  {
   "cell_type": "code",
   "execution_count": null,
   "id": "984a4e45-5de7-4a41-ac50-6ebc3c2b36f1",
   "metadata": {},
   "outputs": [],
   "source": [
    "plt.figure(figsize = (5, 3))\n",
    "plt.title('Age group to which movie belongs')\n",
    "sns.barplot(x = df['Age'].value_counts().index, y = df['Age'].value_counts())"
   ]
  },
  {
   "cell_type": "markdown",
   "id": "04632d7a-b041-401c-b927-a11c2982f7ec",
   "metadata": {},
   "source": [
    "**Number of Movies in specific age group in Netflix**"
   ]
  },
  {
   "cell_type": "code",
   "execution_count": null,
   "id": "f2a3eb3c-8caf-43e6-95e8-9d71eea5844a",
   "metadata": {},
   "outputs": [],
   "source": [
    "from IPython.display import HTML\n",
    "import plotly.express as px\n",
    "netflix_df=df[df['Netflix']==1]\n",
    "fig = px.bar(netflix_df, \n",
    "             x=netflix_df['Age'].value_counts().index, \n",
    "             y=netflix_df['Age'].value_counts(),\n",
    "             title=\"Number of Movies in specific age group in Netflix\",\n",
    "             text=netflix_df['Age'].value_counts(), \n",
    "             height=600)\n",
    "fig.update_traces(texttemplate='%{text:.2s}', textposition='outside')\n",
    "HTML(fig.to_html())"
   ]
  },
  {
   "cell_type": "markdown",
   "id": "b2092df0-f8f1-466b-b3f6-d482af4797ac",
   "metadata": {},
   "source": [
    "**Number of Movies in specific age group in Amazon Prime Video**"
   ]
  },
  {
   "cell_type": "code",
   "execution_count": null,
   "id": "cd159158-1c27-4b78-a53d-bbb0daddcef1",
   "metadata": {},
   "outputs": [],
   "source": [
    "from IPython.display import HTML\n",
    "import plotly.express as px\n",
    "prime_df=df[df['Prime Video']==1]\n",
    "fig = px.bar(prime_df, \n",
    "             x=prime_df['Age'].value_counts().index, \n",
    "             y=prime_df['Age'].value_counts(),\n",
    "             title=\"Number of Movies in specific age group in Amazon Prime Video\",\n",
    "             text=prime_df['Age'].value_counts(), \n",
    "             height=600)\n",
    "fig.update_traces(marker_color='lightsalmon',texttemplate='%{text:.2s}', textposition='outside') \n",
    "HTML(fig.to_html())"
   ]
  },
  {
   "cell_type": "markdown",
   "id": "010d8c34-32ff-4f1c-853d-777c3cb0373c",
   "metadata": {},
   "source": [
    "**Number of Movies in specific age group in Disney+**"
   ]
  },
  {
   "cell_type": "code",
   "execution_count": null,
   "id": "e5d79f2c-6535-44d3-b8fb-06dd7b206d17",
   "metadata": {},
   "outputs": [],
   "source": [
    "from IPython.display import HTML\n",
    "import plotly.express as px\n",
    "Disney_df=df[df['Disney+']==1]\n",
    "fig = px.bar(Disney_df, \n",
    "             x=Disney_df['Age'].value_counts().index, \n",
    "             y=Disney_df['Age'].value_counts(),\n",
    "             title=\"Number of Movies in specific age group in Disney+ Video\",\n",
    "             text=Disney_df['Age'].value_counts(), \n",
    "             height=600)\n",
    "fig.update_traces(marker_color='red',texttemplate='%{text:.2s}', textposition='outside')\n",
    "HTML(fig.to_html())"
   ]
  },
  {
   "cell_type": "code",
   "execution_count": null,
   "id": "74d49f0b-04d8-4ab7-b202-b1fd6be96be8",
   "metadata": {},
   "outputs": [],
   "source": [
    "from IPython.display import HTML\n",
    "import plotly.express as px\n",
    "Hulu_df=df[df['Hulu']==1]\n",
    "fig = px.bar(Hulu_df, \n",
    "             x=Hulu_df['Age'].value_counts().index, \n",
    "             y=Hulu_df['Age'].value_counts(),\n",
    "             title=\"Number of Movies in specific age group in Hulu Video\",\n",
    "             text=Hulu_df['Age'].value_counts(), \n",
    "             height=600)\n",
    "fig.update_traces(marker_color='black',texttemplate='%{text:.2s}', textposition='outside')\n",
    "HTML(fig.to_html())"
   ]
  },
  {
   "cell_type": "markdown",
   "id": "7f158d74-df3e-44bb-8b0f-2417325b96c2",
   "metadata": {},
   "source": [
    "**Top 10 languages in Streaming Services**"
   ]
  },
  {
   "cell_type": "code",
   "execution_count": null,
   "id": "d6065765-7e71-425b-979a-41937ec7f678",
   "metadata": {},
   "outputs": [],
   "source": [
    "#counting and assigning the 10 top values to a variable\n",
    "languages = df.Language.value_counts().head(10)\n",
    " \n",
    "plt.figure(figsize=(12,8))\n",
    "plt.title('Top 10 languages in Streaming Services')\n",
    "sns.barplot(x=languages.index, y=languages.values)"
   ]
  },
  {
   "cell_type": "code",
   "execution_count": null,
   "id": "0ac8553e-b679-45b5-86a4-98f4d4f9cf46",
   "metadata": {},
   "outputs": [],
   "source": [
    "from IPython.display import HTML\n",
    "import plotly.express as px\n",
    "fig = px.pie(df, \n",
    "             values=languages.values, \n",
    "             names=languages.index, \n",
    "             title='Top 10 languages in Streaming Services',\n",
    "             height=600)\n",
    "HTML(fig.to_html())"
   ]
  },
  {
   "cell_type": "markdown",
   "id": "076bac7e-8ad7-4a07-a619-30b3ac389c5b",
   "metadata": {},
   "source": [
    "# **Rotten Tomatoes Score**"
   ]
  },
  {
   "cell_type": "code",
   "execution_count": null,
   "id": "55fdd2ad-2c24-4f42-b352-b507ae594300",
   "metadata": {},
   "outputs": [],
   "source": [
    "from IPython.display import HTML\n",
    "import plotly.express as px\n",
    "\n",
    "fig = px.bar(df, \n",
    "             x=df['Rotten Tomatoes'].value_counts().index, \n",
    "             y=df['Rotten Tomatoes'].value_counts(),\n",
    "             title=\"Overall Rotten Tomato Ratings\",\n",
    "             text=df['Rotten Tomatoes'].value_counts(), \n",
    "             height=600)\n",
    "fig.update_traces(marker_color='blue',texttemplate='%{text:.2s}', textposition='outside')\n",
    "HTML(fig.to_html())"
   ]
  },
  {
   "cell_type": "markdown",
   "id": "9f8caeef-ce91-4adc-83eb-4bf3dbaca24d",
   "metadata": {},
   "source": [
    "## **Rotten Tomato Ratings For Each Services**"
   ]
  },
  {
   "cell_type": "code",
   "execution_count": null,
   "id": "255a067a-8e06-421a-81d0-3e5e49020acc",
   "metadata": {},
   "outputs": [],
   "source": [
    "rt_scores = pd.DataFrame({'Streaming Service': [\"Prime Video\", \"Hulu\",\"Disney+\",\"NetFlix\"],\n",
    "                                    'Rotten Tomato Score' : [prime_df['Rotten Tomatoes'].value_counts()[0],\n",
    "                                                             Hulu_df['Rotten Tomatoes'].value_counts()[0],\n",
    "                                                             Disney_df['Rotten Tomatoes'].value_counts()[0],\n",
    "                                                             netflix_df['Rotten Tomatoes'].value_counts()[0]  \n",
    "                                                             ]})\n",
    "rt_scores.head()"
   ]
  },
  {
   "cell_type": "code",
   "execution_count": null,
   "id": "7586a8f6-1af8-4235-adf8-6ebeb6799cf5",
   "metadata": {},
   "outputs": [],
   "source": [
    "sorted_rt_score=rt_scores.sort_values(ascending=False, by=\"Rotten Tomato Score\")\n",
    "sorted_rt_score"
   ]
  },
  {
   "cell_type": "code",
   "execution_count": null,
   "id": "4522b3a3-d6ed-4e90-a127-ebb22ab201ee",
   "metadata": {},
   "outputs": [],
   "source": [
    "fig = px.bar(sorted_rt_score, \n",
    "             x=sorted_rt_score['Streaming Service'], \n",
    "             y=sorted_rt_score['Rotten Tomato Score'],\n",
    "             title=\"Rotten Tomato Ratings For Each Services\",\n",
    "             text=sorted_rt_score['Rotten Tomato Score'], \n",
    "             height=600)\n",
    "fig.update_traces(marker_color='purple',texttemplate='%{text:.2s}', textposition='outside')\n",
    "HTML(fig.to_html())"
   ]
  },
  {
   "cell_type": "code",
   "execution_count": null,
   "id": "3d02a977-c45e-4ec1-9fff-90dc7a771297",
   "metadata": {},
   "outputs": [],
   "source": [
    "fig = px.bar(df, \n",
    "             y=df['IMDb'].value_counts(), \n",
    "             x=df['IMDb'].value_counts().index,\n",
    "             title=\"Overall IMDb Ratings For All Services\",\n",
    "             text=df['IMDb'].value_counts(), \n",
    "             height=600)\n",
    "fig.update_traces(marker_color='purple',texttemplate='%{text:.2s}', textposition='outside')\n",
    "HTML(fig.to_html())"
   ]
  },
  {
   "cell_type": "code",
   "execution_count": null,
   "id": "f4bdd368-609b-44d1-b018-3750c361aab1",
   "metadata": {},
   "outputs": [],
   "source": [
    "RuntimeCount = pd.DataFrame(dict(df['Runtime'].value_counts().sort_values(ascending=False)[:10]).items(), \n",
    "             columns=['Runtime', 'Count'])\n",
    "\n",
    "RuntimeCount"
   ]
  },
  {
   "cell_type": "code",
   "execution_count": null,
   "id": "66685fcd-5f77-48ed-987a-a798898e2a9c",
   "metadata": {},
   "outputs": [],
   "source": [
    "fig = px.bar(df, \n",
    "             x=RuntimeCount['Runtime'], \n",
    "             y=RuntimeCount['Count'],\n",
    "             title=\"Count Of Runtimes Of Movies\",\n",
    "             text=RuntimeCount['Runtime'], \n",
    "             height=600)\n",
    "fig.update_traces(marker_color='purple',texttemplate='%{text:.2s}', textposition='outside')\n",
    "HTML(fig.to_html())"
   ]
  },
  {
   "cell_type": "code",
   "execution_count": null,
   "id": "57aedf91-02d7-4e51-8b0e-14a9e7830150",
   "metadata": {},
   "outputs": [],
   "source": [
    "new_data = df[df['Directors'] !=np.nan]\n",
    "directors_count = dict()\n",
    "direc_in_data = list(new_data['Directors'])\n",
    "for xdir in direc_in_data:\n",
    "    curr_dirs = str(xdir).split(\",\")\n",
    "    for xd in curr_dirs:\n",
    "        if xd in directors_count.keys():\n",
    "            directors_count[xd] = directors_count.get(xd) + 1\n",
    "        else:\n",
    "            directors_count[xd] = 1"
   ]
  },
  {
   "cell_type": "code",
   "execution_count": null,
   "id": "0ee0bf04-89ee-49f3-ae78-3cf404e43830",
   "metadata": {},
   "outputs": [],
   "source": [
    "DirCount = pd.DataFrame(directors_count.items(), columns=['Director', 'Count'])\n",
    "DirCount=DirCount.sort_values(ascending=False, by='Count').head(20)\n",
    "DirCount   "
   ]
  },
  {
   "cell_type": "code",
   "execution_count": null,
   "id": "dda80802-5328-463f-b154-ad6e371674d6",
   "metadata": {},
   "outputs": [],
   "source": [
    "DirCount=DirCount.drop(56, axis=0)\n",
    "DirCount"
   ]
  },
  {
   "cell_type": "code",
   "execution_count": null,
   "id": "8f92ffd7-22e5-46a8-a3ea-6d60d33fa513",
   "metadata": {},
   "outputs": [],
   "source": [
    "fig = px.bar(DirCount, \n",
    "             x=DirCount['Director'], \n",
    "             y=DirCount['Count'],\n",
    "             title=\"Directors And The Count Of Movies They Have Directed\",\n",
    "             text=DirCount['Count'],\n",
    "             height=600)\n",
    "fig.update_traces(marker_color='purple',texttemplate='%{text:.2s}', textposition='outside') #for the text to be outside.\n",
    "HTML(fig.to_html())"
   ]
  },
  {
   "cell_type": "markdown",
   "id": "85479431-1703-4882-914f-aae69caab5ab",
   "metadata": {},
   "source": [
    "### **Exploring Genres**"
   ]
  },
  {
   "cell_type": "code",
   "execution_count": null,
   "id": "06552b56-5600-4ba6-998f-3297c96c4c74",
   "metadata": {},
   "outputs": [],
   "source": [
    "genres_= dict(df['Genres'].value_counts())\n",
    "count_genres = dict()\n",
    "for g,count in genres_.items():\n",
    "    g = g.split(\",\")\n",
    "    for i in g:\n",
    "        if i in count_genres.keys():\n",
    "            count_genres[i] = count_genres.get(i)+1\n",
    "        else:\n",
    "            count_genres[i] = 1   "
   ]
  },
  {
   "cell_type": "code",
   "execution_count": null,
   "id": "4eb4d60f-3acf-467d-a5b5-a91138ac7794",
   "metadata": {},
   "outputs": [],
   "source": [
    "count_genres_df = pd.DataFrame(count_genres.items(), columns=['Genre', 'Count'])\n",
    "count_genres_df"
   ]
  },
  {
   "cell_type": "code",
   "execution_count": null,
   "id": "69adbe73-e811-4cf2-8cea-3e95ae0bc7fc",
   "metadata": {},
   "outputs": [],
   "source": [
    "fig = px.bar(count_genres_df, \n",
    "             x=count_genres_df['Genre'], \n",
    "             y=count_genres_df['Count'],\n",
    "             title=\"Genre And their Counts\",\n",
    "             text=count_genres_df['Count'],\n",
    "             height=600)\n",
    "fig.update_traces(marker_color='lightsalmon',texttemplate='%{text:.2s}', textposition='outside')\n",
    "HTML(fig.to_html())"
   ]
  },
  {
   "cell_type": "markdown",
   "id": "7dbc15be-ce4e-4988-bebc-49108cbae675",
   "metadata": {},
   "source": [
    "# **Top movies on each platform**"
   ]
  },
  {
   "cell_type": "code",
   "execution_count": null,
   "id": "75887278-1c54-4867-a211-021def5cb398",
   "metadata": {},
   "outputs": [],
   "source": [
    "netflix_top_movies = netflix_df[netflix_df['IMDb'] > 8.5]\n",
    "netflix_top_movies_df = pd.DataFrame({'movie_name':netflix_top_movies['Title'], 'imdb_ratings':netflix_top_movies['IMDb']})\n",
    "netflix_top_movies_df = netflix_top_movies_df.sort_values(ascending=False,by='imdb_ratings')\n",
    "netflix_top_movies_df"
   ]
  },
  {
   "cell_type": "code",
   "execution_count": null,
   "id": "ff0e45e4-15b1-42a9-bd3f-a1eb1a91de2e",
   "metadata": {},
   "outputs": [],
   "source": [
    "plt.figure(figsize=(5, 10))\n",
    "plt.title('Highest rated movies on Netfilx')\n",
    "sns.barplot(x=netflix_top_movies_df['imdb_ratings'], y=netflix_top_movies_df['movie_name'])"
   ]
  },
  {
   "cell_type": "code",
   "execution_count": null,
   "id": "21282ae6-3456-4493-8997-353c4b25a25d",
   "metadata": {},
   "outputs": [],
   "source": [
    "prime_top_movies = prime_df[prime_df['IMDb'] > 8.8]\n",
    "prime_top_movies_df = pd.DataFrame({'movie_name':prime_top_movies['Title'], 'imdb_ratings':prime_top_movies['IMDb']})\n",
    "prime_top_movies_df = prime_top_movies_df.sort_values(ascending=False,by='imdb_ratings')\n",
    "prime_top_movies_df"
   ]
  },
  {
   "cell_type": "code",
   "execution_count": null,
   "id": "5856ece3-a4d8-4f00-ab2a-204670e9d7f7",
   "metadata": {},
   "outputs": [],
   "source": [
    "plt.figure(figsize=(5, 10))\n",
    "plt.title('Highest rated movies on Prime')\n",
    "sns.barplot(x=prime_top_movies_df['imdb_ratings'], y=prime_top_movies_df['movie_name'])"
   ]
  },
  {
   "cell_type": "code",
   "execution_count": null,
   "id": "dbd835cf-bfca-4798-bdc4-6c9c62ecbcdf",
   "metadata": {},
   "outputs": [],
   "source": [
    "disney_top = Disney_df[Disney_df['IMDb']>8.5]\n",
    "disney_top = disney_top[['Title', 'IMDb']].sort_values(ascending=False, by='IMDb')\n",
    "disney_top"
   ]
  },
  {
   "cell_type": "code",
   "execution_count": null,
   "id": "ab504564-0fdf-4fab-8530-14589c13de18",
   "metadata": {},
   "outputs": [],
   "source": [
    "fig = px.bar(disney_top, \n",
    "             x=disney_top['Title'], \n",
    "             y=disney_top['IMDb'],\n",
    "             title=\"Top Movies On Disney+\",\n",
    "             text=disney_top['IMDb'],\n",
    "             height=800)\n",
    "fig.update_traces(marker_color='lightblue',texttemplate='%{text:.2s}', textposition='outside')\n",
    "HTML(fig.to_html())"
   ]
  },
  {
   "cell_type": "code",
   "execution_count": null,
   "id": "e2f0deb5-228a-4aed-a44d-a391a7055d74",
   "metadata": {},
   "outputs": [],
   "source": [
    "hulu_top = Hulu_df[Hulu_df['IMDb']>8.5]\n",
    "hulu_top = hulu_top[['Title', 'IMDb']].sort_values(ascending=False, by='IMDb')\n",
    "hulu_top"
   ]
  },
  {
   "cell_type": "code",
   "execution_count": null,
   "id": "f24f2946-4bae-453d-a79a-fcbb0450469f",
   "metadata": {},
   "outputs": [],
   "source": [
    "fig = px.bar(hulu_top, \n",
    "             x=hulu_top['Title'], \n",
    "             y=hulu_top['IMDb'],\n",
    "             title=\"Top Movies On Hulu\",\n",
    "             text=hulu_top['IMDb'],\n",
    "             height=800)\n",
    "fig.update_traces(marker_color='purple',texttemplate='%{text:.2s}', textposition='outside') #for the text to be outside.\n",
    "HTML(fig.to_html())"
   ]
  },
  {
   "cell_type": "markdown",
   "id": "1de6696d-7fba-4019-9e5f-1f64786e6fe1",
   "metadata": {},
   "source": [
    "# **Average streaming time on each platform**"
   ]
  },
  {
   "cell_type": "code",
   "execution_count": null,
   "id": "18a14343-7b3a-4fc5-9b13-64a3280c3525",
   "metadata": {},
   "outputs": [],
   "source": [
    "avg_runtime = pd.DataFrame({'avg_across_platforms': [netflix_df['Runtime'].mean(), prime_df['Runtime'].mean(), Disney_df['Runtime'].mean(), Hulu_df['Runtime'].mean()]}, index = ['Netflix_avg', 'Prime_avg', 'Disney_avg', 'Hulu_avg'])\n",
    "avg_runtime"
   ]
  },
  {
   "cell_type": "code",
   "execution_count": null,
   "id": "9efa22b2-a5ad-4cf3-9d41-bceed996a04b",
   "metadata": {},
   "outputs": [],
   "source": [
    "print(avg_runtime['avg_across_platforms'].values)"
   ]
  },
  {
   "cell_type": "code",
   "execution_count": null,
   "id": "0662804e-1ad7-4f39-a8ee-fa9b0107603e",
   "metadata": {},
   "outputs": [],
   "source": [
    "avg_runtime.index"
   ]
  },
  {
   "cell_type": "code",
   "execution_count": null,
   "id": "24034a17-1f05-44e5-9507-ef191e5286ef",
   "metadata": {},
   "outputs": [],
   "source": [
    "fig = px.bar(avg_runtime,  \n",
    "             x=avg_runtime.index,\n",
    "             y=avg_runtime['avg_across_platforms'].values,\n",
    "             title=\"average runtime of movies across platforms\",\n",
    "             text=avg_runtime['avg_across_platforms'].values,\n",
    "             height=800)\n",
    "fig.update_traces(marker_color='purple',texttemplate='%{text:.2s}', textposition='outside') \n",
    "HTML(fig.to_html())"
   ]
  },
  {
   "cell_type": "markdown",
   "id": "1fc96f2e-cf02-4059-bc83-de3b675770ed",
   "metadata": {},
   "source": [
    "# **Movies Released after 1990**"
   ]
  },
  {
   "cell_type": "code",
   "execution_count": null,
   "id": "5c6b1b0a-b2dc-4829-b61f-20a6b876fb47",
   "metadata": {},
   "outputs": [],
   "source": [
    "released_after_1990 = df[df['Year'] > 1990]\n",
    "released_after_1990_df = pd.DataFrame({'movie_name': released_after_1990['Title'], 'release_year': released_after_1990['Year']})\n",
    "released_after_1990_df"
   ]
  },
  {
   "cell_type": "code",
   "execution_count": null,
   "id": "39bf058a-fed3-4898-b957-a350597eaa83",
   "metadata": {},
   "outputs": [],
   "source": []
  }
 ],
 "metadata": {
  "kernelspec": {
   "display_name": "Python 3 (ipykernel)",
   "language": "python",
   "name": "python3"
  },
  "language_info": {
   "codemirror_mode": {
    "name": "ipython",
    "version": 3
   },
   "file_extension": ".py",
   "mimetype": "text/x-python",
   "name": "python",
   "nbconvert_exporter": "python",
   "pygments_lexer": "ipython3",
   "version": "3.9.12"
  }
 },
 "nbformat": 4,
 "nbformat_minor": 5
}
